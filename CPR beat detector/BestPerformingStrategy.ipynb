{
 "cells": [
  {
   "cell_type": "markdown",
   "metadata": {},
   "source": [
    "# COMP47700 Speech and Audio: Project\n",
    "### CPR BEAT DETECTION FROM AUDIO\n",
    "\n",
    "Hand CPR requires repeated chest compressions at a rate of 100 to 120 times a minute until an ambulance arrives or for as long as you can. This project allows the general public to upload music or any audio and find portions of song/audio that can be used to perform CPR to, if it exists. This will allow people from all backgrounds (not only English language speakers) to know music from their native language that can be kept in mind while doing CPR for ease."
   ]
  },
  {
   "cell_type": "markdown",
   "metadata": {},
   "source": [
    "### Audio songs available for checking\n",
    "\n",
    "#### English\n",
    "* EnglighCPRSongFilename1 = \"Bee Gees - Stayin Alive.mp3\"\n",
    "* EnglighCPRSongFilename2 = \"Queen - Another One Bites The Dust.mp3\"\n",
    "* RandomNonCPREnglishSongFilename1 = \"MAGIC! - Rude.mp3\"\n",
    "* RandomNonCPREnglishSongFilename2 = \"I'm Yours - Jason Mraz.mp3\"\n",
    "\n",
    "#### Spanish\n",
    "* SpanishCPRSongFilename1 = \"Shakira - Hips Don't Lie.mp3\"\n",
    "* SpanishCPRSongFilename2 = \"Daddy Yankee - Gasolina.mp3\"\n",
    "* RandomNonCPRSpanishSongFilename1 = \"A Thousand Years - Spanish.mp3\"\n",
    "* RandomNonCPRSpanishSongFilename2 = \"Enrique Iglesias - Cuando Me Enamoro.mp3\"\n",
    "* RandomNonCPRSpanishSongFilename3 =\"No Hay Nada.mp3\"\n",
    "* RandomNonCPRSpanishSongFilename4 = \"Los Del Rio - La Macarena.mp3\"\n",
    "\n",
    "#### Korean\n",
    "* KoreanCPRSongFilename1 = \"EXO Tempo.mp3\"\n",
    "* KoreanCPRSongFilename2 = \"IKON - LOVE SCENARIO.mp3\"\n",
    "* RandomNonCPRKoreanSongFilename1 = \"Monsta X - MIDDLE OF THE NIGHT.mp3\"\n",
    "* RandomNonCPRKoreanSongFilename2 = \"ITZY.mp3\""
   ]
  },
  {
   "cell_type": "code",
   "execution_count": 1,
   "metadata": {
    "vscode": {
     "languageId": "plaintext"
    }
   },
   "outputs": [],
   "source": [
    "import matplotlib.pyplot as plt\n",
    "import IPython.display as ipd\n",
    "from IPython.display import display\n",
    "import os\n",
    "import math\n",
    "import ffmpeg\n",
    "import librosa\n",
    "import time\n",
    "from IPython.display import Audio"
   ]
  },
  {
   "cell_type": "markdown",
   "metadata": {},
   "source": [
    "### Function that checks if tempo of the audio clip is suitable to perform CPR or not"
   ]
  },
  {
   "cell_type": "code",
   "execution_count": 2,
   "metadata": {},
   "outputs": [],
   "source": [
    "def canPerformCPR(tempo):\n",
    "    if tempo>=100 and tempo<=120:\n",
    "        return True\n",
    "    else:\n",
    "#         print(\"Audio bpm(beats per minute) \" + str(tempo) + \" not suitable to perform CPR to\")\n",
    "        return False"
   ]
  },
  {
   "cell_type": "markdown",
   "metadata": {},
   "source": [
    "### Function to plot graph of changing or unchanging tempo for the window of time that is being checked. The graph contains start time of window in x axis and corresponding tempo in of the window of audio analysed in the y axis"
   ]
  },
  {
   "cell_type": "code",
   "execution_count": 3,
   "metadata": {},
   "outputs": [],
   "source": [
    "# plot tempo of audio for each window check\n",
    "def plotMovingWindowDetails(startTime_toTempoMapping):\n",
    "    if startTime_toTempoMapping:\n",
    "        fig1=plt.figure(figsize=(8, 6))\n",
    "        plt.scatter(startTime_toTempoMapping[0], startTime_toTempoMapping[1])\n",
    "        plt.grid(axis='both')\n",
    "        plt.xlabel('start time in seconds')\n",
    "        plt.ylabel('tempo')\n",
    "        plt.show()"
   ]
  },
  {
   "cell_type": "markdown",
   "metadata": {},
   "source": [
    "### Strategy 4 - If average bpm of a clip is lesser than expected CPR beats, then instead of moving per second move a whole minute"
   ]
  },
  {
   "cell_type": "code",
   "execution_count": 4,
   "metadata": {},
   "outputs": [],
   "source": [
    "def strategy4(fname_wav):\n",
    "    # librosa getduration avoids loading the contents into memory, and is therefore useful for querying the duration of long files.\n",
    "    end_index = librosa.get_duration(filename=fname_wav) # result is in seconds\n",
    "    \n",
    "    # reject fast\n",
    "    if end_index < 120:\n",
    "        print(\"length of audio less than 2mins\")\n",
    "        return\n",
    "    \n",
    "    start3 = time.time() # to check load method time\n",
    "    y, sr = librosa.load(fname_wav)\n",
    "    print(f'Time taken by audio to load as signal using librosa load: {time.time() - start3}')\n",
    "    \n",
    "    \n",
    "    max_offset_start_idx = math.floor(end_index - 2*60) # the last 2 minute's start index\n",
    "    print(\"total duration of the audio: \" + str(end_index/60) + \" minutes\")\n",
    "    print(\"total number of maximum offsets: \" + str(max_offset_start_idx))\n",
    "\n",
    "    cpr_startTime = []\n",
    "    cpr_endTime = []\n",
    "    start_idx = 0\n",
    "    prev_index = 0\n",
    "    index = 0\n",
    "\n",
    "    startTime_toTempoMapping = [[],[]] # to maintain start time to tempo information\n",
    "    start2 = time.time() # to check time taken by librosa load method\n",
    "    while index <= max_offset_start_idx:\n",
    "        start4 = time.time() # to check iteration time\n",
    "        ynew = y[sr*index:sr*(index+120)]\n",
    "\n",
    "        tempo, beats = librosa.beat.beat_track(y=ynew, sr=sr, start_bpm=100)\n",
    "        tempo = math.ceil(tempo)\n",
    "        startTime_toTempoMapping[0].append(index)\n",
    "        startTime_toTempoMapping[1].append(tempo)\n",
    "\n",
    "        if canPerformCPR(math.ceil(tempo)):\n",
    "            prev_index = index\n",
    "            index = index + 1\n",
    "        else:\n",
    "            if start_idx != prev_index:\n",
    "                cpr_startTime.append(start_idx)\n",
    "                index = index + 1\n",
    "                start_idx = index #assign new index\n",
    "                cpr_endTime.append(prev_index+2*60)\n",
    "                prev_index = index #assign new index\n",
    "            else:\n",
    "                index = index + 60\n",
    "                start_idx = index #assign new index\n",
    "                prev_index = index #assign new index\n",
    "#         print(f'Time taken this iteration {time.time() - start4} ms')\n",
    "\n",
    "    if prev_index != start_idx:\n",
    "        cpr_startTime.append(start_idx)\n",
    "        cpr_endTime.append((index-1)+2*60)\n",
    "    \n",
    "    if cpr_startTime:\n",
    "        print(\"The optimal time intervals in the audio are as follows: \")\n",
    "        for idx, startTime in enumerate(cpr_startTime):\n",
    "            print(str(startTime) + \" - \" + str(cpr_endTime[idx]))\n",
    "    else:\n",
    "        print(\"Audio not suitable to perform CPR\")\n",
    "        \n",
    "    return startTime_toTempoMapping"
   ]
  },
  {
   "cell_type": "markdown",
   "metadata": {},
   "source": [
    "### Files used for testing the strategies"
   ]
  },
  {
   "cell_type": "code",
   "execution_count": 5,
   "metadata": {
    "scrolled": false
   },
   "outputs": [
    {
     "name": "stdout",
     "output_type": "stream",
     "text": [
      "The file does not exist\n",
      "wav format conversion time taken: 0.00029587745666503906\n"
     ]
    },
    {
     "name": "stderr",
     "output_type": "stream",
     "text": [
      "ffmpeg version 5.1.2 Copyright (c) 2000-2022 the FFmpeg developers\n",
      "  built with Apple clang version 14.0.0 (clang-1400.0.29.202)\n",
      "  configuration: --prefix=/usr/local/Cellar/ffmpeg/5.1.2_6 --enable-shared --enable-pthreads --enable-version3 --cc=clang --host-cflags= --host-ldflags= --enable-ffplay --enable-gnutls --enable-gpl --enable-libaom --enable-libaribb24 --enable-libbluray --enable-libdav1d --enable-libmp3lame --enable-libopus --enable-librav1e --enable-librist --enable-librubberband --enable-libsnappy --enable-libsrt --enable-libsvtav1 --enable-libtesseract --enable-libtheora --enable-libvidstab --enable-libvmaf --enable-libvorbis --enable-libvpx --enable-libwebp --enable-libx264 --enable-libx265 --enable-libxml2 --enable-libxvid --enable-lzma --enable-libfontconfig --enable-libfreetype --enable-frei0r --enable-libass --enable-libopencore-amrnb --enable-libopencore-amrwb --enable-libopenjpeg --enable-libspeex --enable-libsoxr --enable-libzmq --enable-libzimg --disable-libjack --disable-indev=jack --enable-videotoolbox\n",
      "  libavutil      57. 28.100 / 57. 28.100\n",
      "  libavcodec     59. 37.100 / 59. 37.100\n",
      "  libavformat    59. 27.100 / 59. 27.100\n",
      "  libavdevice    59.  7.100 / 59.  7.100\n",
      "  libavfilter     8. 44.100 /  8. 44.100\n",
      "  libswscale      6.  7.100 /  6.  7.100\n",
      "  libswresample   4.  7.100 /  4.  7.100\n",
      "  libpostproc    56.  6.100 / 56.  6.100\n",
      "Input #0, mp3, from 'IKON - LOVE SCENARIO.mp3':\n",
      "  Metadata:\n",
      "    major_brand     : mp42\n",
      "    minor_version   : 0\n",
      "    compatible_brands: isommp42\n",
      "    encoder         : Lavf58.29.100\n",
      "  Duration: 00:03:31.75, start: 0.025057, bitrate: 192 kb/s\n",
      "  Stream #0:0: Audio: mp3, 44100 Hz, stereo, fltp, 192 kb/s\n",
      "    Metadata:\n",
      "      encoder         : Lavc58.54\n",
      "Stream mapping:\n",
      "  Stream #0:0 -> #0:0 (mp3 (mp3float) -> pcm_s16le (native))\n",
      "Press [q] to stop, [?] for help\n",
      "Output #0, wav, to 'demofile.wav':\n",
      "  Metadata:\n",
      "    major_brand     : mp42\n",
      "    minor_version   : 0\n",
      "    compatible_brands: isommp42\n",
      "    ISFT            : Lavf59.27.100\n",
      "  Stream #0:0: Audio: pcm_s16le ([1][0][0][0] / 0x0001), 44100 Hz, stereo, s16, 1411 kb/s\n",
      "    Metadata:\n",
      "      encoder         : Lavc59.37.100 pcm_s16le\n",
      "size=   36472kB time=00:03:31.71 bitrate=1411.2kbits/s speed= 536x    \n",
      "video:0kB audio:36472kB subtitle:0kB other streams:0kB global headers:0kB muxing overhead: 0.000209%\n"
     ]
    },
    {
     "data": {
      "text/plain": [
       "(None, None)"
      ]
     },
     "execution_count": 5,
     "metadata": {},
     "output_type": "execute_result"
    }
   ],
   "source": [
    "## English\n",
    "Filename1 = 'Bee Gees - Stayin Alive.mp3'\n",
    "Filename5 = \"I'm Yours - Jason Mraz.mp3\"\n",
    "\n",
    "## Spanish\n",
    "Filename3 = \"Daddy Yankee - Gasolina.mp3\"\n",
    "Filename2 = \"Enrique Iglesias - Cuando Me Enamoro.mp3\"\n",
    "\n",
    "## Korean\n",
    "Filename4 = \"IKON - LOVE SCENARIO.mp3\"\n",
    "\n",
    "# Assigning file to be tested\n",
    "start1 = time.time()\n",
    "songFileName = Filename4\n",
    "fname_wav = 'demofile.wav'\n",
    "\n",
    "# Delete wav file generated previously under the same name\n",
    "if os.path.exists(\"demofile.wav\"):\n",
    "    os.remove(\"demofile.wav\")\n",
    "else:\n",
    "    print(\"The file does not exist\")\n",
    "\n",
    "# Convert to wav file\n",
    "start2 = time.time()\n",
    "stream = ffmpeg.input(songFileName)\n",
    "stream = ffmpeg.output(stream, fname_wav)\n",
    "print(f'wav format conversion time taken: {time.time() - start2}')\n",
    "ffmpeg.run(stream)"
   ]
  },
  {
   "cell_type": "code",
   "execution_count": 7,
   "metadata": {},
   "outputs": [
    {
     "name": "stdout",
     "output_type": "stream",
     "text": [
      "Time taken by audio to load as signal using librosa load: 5.7977399826049805\n",
      "total duration of the audio: 3.5286591080876795 minutes\n",
      "total number of maximum offsets: 91\n",
      "The optimal time intervals in the audio are as follows: \n",
      "0 - 211\n"
     ]
    },
    {
     "data": {
      "image/png": "[encoded data removed]",
      "text/plain": [
       "<Figure size 576x432 with 1 Axes>"
      ]
     },
     "metadata": {
      "needs_background": "light"
     },
     "output_type": "display_data"
    },
    {
     "name": "stdout",
     "output_type": "stream",
     "text": [
      "Time taken for this CPR beat finding algorithm to complete: 56.927160024642944 sec\n"
     ]
    }
   ],
   "source": [
    "start = time.time()\n",
    "# CPR beat finding algorithm for strategy 4 ends here\n",
    "startTime_toTempoMapping = strategy4(fname_wav)\n",
    "plotMovingWindowDetails(startTime_toTempoMapping)\n",
    "# CPR beat finding algorithm for strategy 4 ends here\n",
    "print(f'Time taken for this CPR beat finding algorithm to complete: {time.time() - start} sec')"
   ]
  },
  {
   "cell_type": "markdown",
   "metadata": {},
   "source": [
    "### References\n",
    "1:20 - 0:25\n",
    "display(Audio(y, rate=sr))\n",
    "* [1] Anonymous 15 March 2022, *nhs website*, accessed 16 April 2023, <https://www.nhs.uk/conditions/first-aid/cpr/>\n",
    "* Anonymous 5 March 2022, youtube Fire Department Chronicles channel, accessed 20 April 2023, <https://www.youtube.com/watch?v=0H_XUaxrna8>\n",
    "* Spanish song reference - https://www.newscientist.com/article/mg23831822-900-feedback-humming-this-spanish-pop-song-might-save-a-life/\n",
    "* Librosa.getduration - https://librosa.org/doc/latest/generated/librosa.get_duration.html#librosa.get_duration"
   ]
  },
  {
   "cell_type": "code",
   "execution_count": null,
   "metadata": {},
   "outputs": [],
   "source": []
  }
 ],
 "metadata": {
  "kernelspec": {
   "display_name": "Python 3 (ipykernel)",
   "language": "python",
   "name": "python3"
  },
  "language_info": {
   "codemirror_mode": {
    "name": "ipython",
    "version": 3
   },
   "file_extension": ".py",
   "mimetype": "text/x-python",
   "name": "python",
   "nbconvert_exporter": "python",
   "pygments_lexer": "ipython3",
   "version": "3.9.12"
  }
 },
 "nbformat": 4,
 "nbformat_minor": 2
}
